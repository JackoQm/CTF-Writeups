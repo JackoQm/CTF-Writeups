{
 "cells": [
  {
   "cell_type": "code",
   "execution_count": 2,
   "id": "f5bc7d02-2744-4f46-80d4-9478abdabd53",
   "metadata": {
    "execution": {
     "iopub.execute_input": "2022-07-15T00:23:57.204255Z",
     "iopub.status.busy": "2022-07-15T00:23:57.203656Z",
     "iopub.status.idle": "2022-07-15T00:23:57.461614Z",
     "shell.execute_reply": "2022-07-15T00:23:57.461086Z",
     "shell.execute_reply.started": "2022-07-15T00:23:57.204206Z"
    },
    "tags": []
   },
   "outputs": [],
   "source": [
    "import jieba\n",
    "import pandas as pd"
   ]
  },
  {
   "cell_type": "code",
   "execution_count": 19,
   "id": "958ca81b-6565-4023-bff6-e47ae5cf83dd",
   "metadata": {
    "execution": {
     "iopub.execute_input": "2022-07-15T00:28:02.204729Z",
     "iopub.status.busy": "2022-07-15T00:28:02.204135Z",
     "iopub.status.idle": "2022-07-15T00:28:02.223963Z",
     "shell.execute_reply": "2022-07-15T00:28:02.223440Z",
     "shell.execute_reply.started": "2022-07-15T00:28:02.204680Z"
    },
    "tags": []
   },
   "outputs": [],
   "source": [
    "train_data = pd.read_csv('对话意图识别/train.csv', sep='\\t', header=None)\n",
    "test_data = pd.read_csv('对话意图识别/test.csv', sep='\\t', header=None)"
   ]
  },
  {
   "cell_type": "code",
   "execution_count": 20,
   "id": "8c52d9f4-aa80-440a-b795-6925a7973119",
   "metadata": {
    "execution": {
     "iopub.execute_input": "2022-07-15T00:28:03.201455Z",
     "iopub.status.busy": "2022-07-15T00:28:03.200892Z",
     "iopub.status.idle": "2022-07-15T00:28:03.985113Z",
     "shell.execute_reply": "2022-07-15T00:28:03.984612Z",
     "shell.execute_reply.started": "2022-07-15T00:28:03.201413Z"
    },
    "tags": []
   },
   "outputs": [],
   "source": [
    "train_data[0] = train_data[0].apply(lambda x: ' '.join(jieba.lcut(x)))\n",
    "test_data[0] = test_data[0].apply(lambda x: ' '.join(jieba.lcut(x)))"
   ]
  },
  {
   "cell_type": "code",
   "execution_count": 21,
   "id": "9d7cf9ea-daf1-42f3-b1bf-117166cb714b",
   "metadata": {
    "execution": {
     "iopub.execute_input": "2022-07-15T00:28:05.201498Z",
     "iopub.status.busy": "2022-07-15T00:28:05.200922Z",
     "iopub.status.idle": "2022-07-15T00:28:05.209863Z",
     "shell.execute_reply": "2022-07-15T00:28:05.209296Z",
     "shell.execute_reply.started": "2022-07-15T00:28:05.201451Z"
    },
    "tags": []
   },
   "outputs": [
    {
     "data": {
      "text/html": [
       "<div>\n",
       "<style scoped>\n",
       "    .dataframe tbody tr th:only-of-type {\n",
       "        vertical-align: middle;\n",
       "    }\n",
       "\n",
       "    .dataframe tbody tr th {\n",
       "        vertical-align: top;\n",
       "    }\n",
       "\n",
       "    .dataframe thead th {\n",
       "        text-align: right;\n",
       "    }\n",
       "</style>\n",
       "<table border=\"1\" class=\"dataframe\">\n",
       "  <thead>\n",
       "    <tr style=\"text-align: right;\">\n",
       "      <th></th>\n",
       "      <th>0</th>\n",
       "    </tr>\n",
       "  </thead>\n",
       "  <tbody>\n",
       "    <tr>\n",
       "      <th>0</th>\n",
       "      <td>回放 CCTV2 的 消费 主张</td>\n",
       "    </tr>\n",
       "    <tr>\n",
       "      <th>1</th>\n",
       "      <td>给 我 打开 玩具 房 的 灯</td>\n",
       "    </tr>\n",
       "    <tr>\n",
       "      <th>2</th>\n",
       "      <td>循环 播放 赵本山 的 小品 相亲 来 听</td>\n",
       "    </tr>\n",
       "    <tr>\n",
       "      <th>3</th>\n",
       "      <td>15 号 上午 10 点带 孩子 去 海洋馆 的 行程 帮 我 制定 下 。</td>\n",
       "    </tr>\n",
       "    <tr>\n",
       "      <th>4</th>\n",
       "      <td>把 智能 扫地 机器人 关掉</td>\n",
       "    </tr>\n",
       "    <tr>\n",
       "      <th>...</th>\n",
       "      <td>...</td>\n",
       "    </tr>\n",
       "    <tr>\n",
       "      <th>2995</th>\n",
       "      <td>是否 能 找 一首 2019 年 的 抖音 歌曲 播放 下 呢</td>\n",
       "    </tr>\n",
       "    <tr>\n",
       "      <th>2996</th>\n",
       "      <td>下午 三点 有 哪个 台放 大话西游 吗 帮 我 看 下</td>\n",
       "    </tr>\n",
       "    <tr>\n",
       "      <th>2997</th>\n",
       "      <td>随机 播放 一首 古筝 弹奏 的 曲子 可以 吗</td>\n",
       "    </tr>\n",
       "    <tr>\n",
       "      <th>2998</th>\n",
       "      <td>美食 纪录片 螃蟹 的 征途 给 我 找 一下</td>\n",
       "    </tr>\n",
       "    <tr>\n",
       "      <th>2999</th>\n",
       "      <td>打开 播放 广州 降水 的 报告</td>\n",
       "    </tr>\n",
       "  </tbody>\n",
       "</table>\n",
       "<p>3000 rows × 1 columns</p>\n",
       "</div>"
      ],
      "text/plain": [
       "                                           0\n",
       "0                           回放 CCTV2 的 消费 主张\n",
       "1                            给 我 打开 玩具 房 的 灯\n",
       "2                      循环 播放 赵本山 的 小品 相亲 来 听\n",
       "3     15 号 上午 10 点带 孩子 去 海洋馆 的 行程 帮 我 制定 下 。\n",
       "4                             把 智能 扫地 机器人 关掉\n",
       "...                                      ...\n",
       "2995         是否 能 找 一首 2019 年 的 抖音 歌曲 播放 下 呢\n",
       "2996            下午 三点 有 哪个 台放 大话西游 吗 帮 我 看 下\n",
       "2997                随机 播放 一首 古筝 弹奏 的 曲子 可以 吗\n",
       "2998                 美食 纪录片 螃蟹 的 征途 给 我 找 一下\n",
       "2999                        打开 播放 广州 降水 的 报告\n",
       "\n",
       "[3000 rows x 1 columns]"
      ]
     },
     "execution_count": 21,
     "metadata": {},
     "output_type": "execute_result"
    }
   ],
   "source": [
    "test_data"
   ]
  },
  {
   "cell_type": "code",
   "execution_count": 22,
   "id": "7b4ed7f4-d1e5-42b3-88cf-98a5b0f02a4e",
   "metadata": {
    "execution": {
     "iopub.execute_input": "2022-07-15T00:28:07.200470Z",
     "iopub.status.busy": "2022-07-15T00:28:07.199884Z",
     "iopub.status.idle": "2022-07-15T00:28:13.485179Z",
     "shell.execute_reply": "2022-07-15T00:28:13.484630Z",
     "shell.execute_reply.started": "2022-07-15T00:28:07.200421Z"
    },
    "tags": []
   },
   "outputs": [
    {
     "name": "stderr",
     "output_type": "stream",
     "text": [
      "/home/lyz/.local/lib/python3.6/site-packages/sklearn/linear_model/_logistic.py:765: ConvergenceWarning: lbfgs failed to converge (status=1):\n",
      "STOP: TOTAL NO. of ITERATIONS REACHED LIMIT.\n",
      "\n",
      "Increase the number of iterations (max_iter) or scale the data as shown in:\n",
      "    https://scikit-learn.org/stable/modules/preprocessing.html\n",
      "Please also refer to the documentation for alternative solver options:\n",
      "    https://scikit-learn.org/stable/modules/linear_model.html#logistic-regression\n",
      "  extra_warning_msg=_LOGISTIC_SOLVER_CONVERGENCE_MSG)\n"
     ]
    },
    {
     "data": {
      "text/plain": [
       "Pipeline(steps=[('tfidfvectorizer', TfidfVectorizer()),\n",
       "                ('logisticregression', LogisticRegression())])"
      ]
     },
     "execution_count": 22,
     "metadata": {},
     "output_type": "execute_result"
    }
   ],
   "source": [
    "from sklearn.feature_extraction.text import TfidfVectorizer # 文本特征提取\n",
    "from sklearn.linear_model import LogisticRegression # 逻辑回归\n",
    "from sklearn.pipeline import make_pipeline # 组合流水线\n",
    "\n",
    "# 训练TFIDF和逻辑回归\n",
    "pipline = make_pipeline(\n",
    "    TfidfVectorizer(),\n",
    "    LogisticRegression()\n",
    ")\n",
    "pipline.fit(\n",
    "    train_data[0], train_data[1]\n",
    ")"
   ]
  },
  {
   "cell_type": "code",
   "execution_count": 25,
   "id": "f791f653-d65f-4afa-85c5-2f6682dffd6c",
   "metadata": {
    "execution": {
     "iopub.execute_input": "2022-07-15T00:28:57.202312Z",
     "iopub.status.busy": "2022-07-15T00:28:57.201721Z",
     "iopub.status.idle": "2022-07-15T00:28:57.227217Z",
     "shell.execute_reply": "2022-07-15T00:28:57.226545Z",
     "shell.execute_reply.started": "2022-07-15T00:28:57.202263Z"
    },
    "tags": []
   },
   "outputs": [],
   "source": [
    "pd.DataFrame(\n",
    "    pipline.predict(test_data[0])\n",
    ").to_csv('nlp_submit.csv', index=None, header=None)"
   ]
  }
 ],
 "metadata": {
  "kernelspec": {
   "display_name": "Python 3.6 (ipykernel)",
   "language": "python",
   "name": "python3"
  },
  "language_info": {
   "codemirror_mode": {
    "name": "ipython",
    "version": 3
   },
   "file_extension": ".py",
   "mimetype": "text/x-python",
   "name": "python",
   "nbconvert_exporter": "python",
   "pygments_lexer": "ipython3",
   "version": "3.6.9"
  }
 },
 "nbformat": 4,
 "nbformat_minor": 5
}
